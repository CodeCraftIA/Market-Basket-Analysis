{
  "nbformat": 4,
  "nbformat_minor": 0,
  "metadata": {
    "colab": {
      "provenance": [],
      "include_colab_link": true
    },
    "kernelspec": {
      "name": "python3",
      "display_name": "Python 3"
    },
    "language_info": {
      "name": "python"
    }
  },
  "cells": [
    {
      "cell_type": "markdown",
      "metadata": {
        "id": "view-in-github",
        "colab_type": "text"
      },
      "source": [
        "<a href=\"https://colab.research.google.com/github/CodeCraftIA/Market-Basket-Analysis/blob/main/ErgasiaEE1.ipynb\" target=\"_parent\"><img src=\"https://colab.research.google.com/assets/colab-badge.svg\" alt=\"Open In Colab\"/></a>"
      ]
    },
    {
      "cell_type": "code",
      "source": [
        "!gdown --id 1qklC6HBqynRmhn5q-zY3Ov2a0jcCwT9s"
      ],
      "metadata": {
        "id": "5fEoZkaEv12B"
      },
      "execution_count": null,
      "outputs": []
    },
    {
      "cell_type": "markdown",
      "source": [
        "**Άσκηση** 1η"
      ],
      "metadata": {
        "id": "ToPMvjq3AgiS"
      }
    },
    {
      "cell_type": "code",
      "source": [
        "\n",
        "import numpy as np\n",
        "import matplotlib.pyplot as plt\n",
        "import pandas as pd"
      ],
      "metadata": {
        "id": "E1PRWDaJuy3a"
      },
      "execution_count": null,
      "outputs": []
    },
    {
      "cell_type": "code",
      "source": [
        "data = pd.read_csv('/content/GroceriesInitial.csv', header = None)"
      ],
      "metadata": {
        "id": "BH8LQ90uvDZv"
      },
      "execution_count": null,
      "outputs": []
    },
    {
      "cell_type": "code",
      "source": [
        "data.head()"
      ],
      "metadata": {
        "id": "_iMODtSowQ0s"
      },
      "execution_count": null,
      "outputs": []
    },
    {
      "cell_type": "markdown",
      "source": [
        "**Μετασχηματισμός προτογενών δεδομένων σε δυαδικά**"
      ],
      "metadata": {
        "id": "MNt1UKMAAJQ7"
      }
    },
    {
      "cell_type": "code",
      "source": [
        "\n",
        "#needed data\n",
        "ndata = [\"citrus fruit\", \"tropical fruit\", \"whole milk\", \"other vegetables\", \"rolls/buns\", \"chocolate\", \"bottled water\", \"yogurt\",\n",
        "\"sausage\", \"root vegetables\", \"pastry\", \"sodα\", \"cream\"]\n",
        "\n",
        "nonItemVal=[\"id\",\"basket_value\",\"recency_days\"]\n",
        "transacts=[]\n",
        "xData=nonItemVal+ndata\n",
        "#γεμίζω με 0 όλα τα στοιχεία του πίνακα(μόνο τα 13 προιόντα για κάθε συναλαγή)\n",
        "for i in range(0, 7536):\n",
        "  transacts.append([0 for i in range(0,16)])\n",
        "# βάζω και τα στοιχεία (\"id\",\"basket_value\",\"recency_days\")\n",
        "for i in range(0, 7536):\n",
        "  for j in range(0, 3):\n",
        "    transacts[i][j]=data.values[i+1,j]\n",
        "# βάζω 1 κάτω απο κάθε στήλη (προιόν) που υπάρχει στην συναλλαγή\n",
        "for i in range(0, 7536):\n",
        "    for n in range(0,13):\n",
        "      if ndata[n] in str(data.values[i+1]):\n",
        "        transacts[i][n+3]=1\n",
        "pd.DataFrame(transacts,columns=xData)\n",
        "\n",
        "\n",
        "\n"
      ],
      "metadata": {
        "id": "MnyVM9fDwX03"
      },
      "execution_count": null,
      "outputs": []
    },
    {
      "cell_type": "markdown",
      "source": [
        "Διακριτοποίηση του **Basket_value**"
      ],
      "metadata": {
        "id": "28UscEuTAsNF"
      }
    },
    {
      "cell_type": "code",
      "source": [
        "xData2=[]\n",
        "#transacts[i][1] εκει βρίσκονται οι τιμες basket_value\n",
        "for i in range(0,7536):\n",
        "  xData2.append(float(transacts[i][1]))\n",
        "#τις ταξινομώ\n",
        "xData2.sort()\n",
        "count1=0\n",
        "count2=0\n",
        "count3=0\n",
        "#μετράω το πλήθος κάθε κατηγορίας\n",
        "for i in range(0,7536):\n",
        "  if xData2[i]<3:\n",
        "    count1=count1+1\n",
        "  elif xData2[i]<6.5:\n",
        "    count2=count2+1\n",
        "  else:\n",
        "    count3=count3+1\n",
        "print(\"low_value_basket :\",count1)\n",
        "print(\"medium_value_basket :\",count2)\n",
        "print(\"high_value_basket :\",count3)\n",
        "#αλλάζω την αριθμητική τιμη με την διακριτή στην οποία ανήκει\n",
        "for i in range(0, 7536):\n",
        "  if float(transacts[i][1])<3:\n",
        "     transacts[i][1]=\"low_value_basket\"\n",
        "  elif float(transacts[i][1])<6.5:\n",
        "      transacts[i][1]=\"medium_value_basket\"\n",
        "  else:\n",
        "      transacts[i][1]=\"high_value_basket\"\n",
        "pd.DataFrame(transacts,columns=xData)\n"
      ],
      "metadata": {
        "id": "uXFuo8CwNx4x"
      },
      "execution_count": null,
      "outputs": []
    },
    {
      "cell_type": "markdown",
      "source": [
        "**2η Άσκηση**"
      ],
      "metadata": {
        "id": "6PoudxTgBsGe"
      }
    },
    {
      "cell_type": "code",
      "source": [
        "#ετοιμάζω τα στοιχεία τα οποία χρειάζομαι(μονο τα items) για να εφαρμόσω apriory\n",
        "itemsData=[]\n",
        "lineData=[]\n",
        "for i in range(0, 7536):\n",
        "  for j in range(0, 13):\n",
        "    if transacts[i][j+3]==1:\n",
        "      lineData.append(ndata[j])\n",
        "  itemsData.append(lineData)\n",
        "  lineData=[]\n",
        "for i in range(0, 7536):\n",
        "  print(itemsData[i])\n",
        "\n"
      ],
      "metadata": {
        "id": "_b1E2_eh6jRX"
      },
      "execution_count": null,
      "outputs": []
    },
    {
      "cell_type": "code",
      "source": [
        "!pip install apyori"
      ],
      "metadata": {
        "id": "PhgkDAQqyDzh"
      },
      "execution_count": null,
      "outputs": []
    },
    {
      "cell_type": "code",
      "source": [
        "#α ερώτημα , απλά τρέχω τον αλγόριθμο αλλάζοντας τις τιμές του support\n",
        "from apyori import apriori\n",
        "rule = apriori(transactions = itemsData, min_support = 0.3, min_confidence = 0.00001)# min_lift = 3, min_length = 2, max_length = 2)\n",
        "list(rule)"
      ],
      "metadata": {
        "id": "hRCPLBiJjrI6"
      },
      "execution_count": null,
      "outputs": []
    },
    {
      "cell_type": "code",
      "source": [
        "#Συνάρτηση για καλύτερη οπτικοποίηση των αποτελεσμάτων Apriory καθώς και ταξινόμησή τους\n",
        "def orderInspect(results,orderBy):\n",
        "  df = pd.DataFrame(columns=('Items-data','Antecedent','Consequent','Support','Confidence','Lift'))\n",
        "\n",
        "  Support =[]\n",
        "  Confidence = []\n",
        "  Lift = []\n",
        "  Items = []\n",
        "  Antecedent = []\n",
        "  Consequent=[]\n",
        "\n",
        "  for RelationRecord in results:\n",
        "      for ordered_stat in RelationRecord.ordered_statistics:\n",
        "          Support.append(RelationRecord.support)\n",
        "          Items.append(RelationRecord.items)\n",
        "          Antecedent.append(ordered_stat.items_base)\n",
        "          Consequent.append(ordered_stat.items_add)\n",
        "          Confidence.append(ordered_stat.confidence)\n",
        "          Lift.append(ordered_stat.lift)\n",
        "\n",
        "  df['Items-data'] = list(map(set, Items))\n",
        "  df['Antecedent'] = list(map(set, Antecedent))\n",
        "  df['Consequent'] = list(map(set, Consequent))\n",
        "  df['Support'] = Support\n",
        "  df['Confidence'] = Confidence\n",
        "  df['Lift']= Lift\n",
        "  df.sort_values(by =orderBy, ascending = False, inplace = True)\n",
        "  return df\n"
      ],
      "metadata": {
        "id": "hR4r83cGa54y"
      },
      "execution_count": null,
      "outputs": []
    },
    {
      "cell_type": "code",
      "source": [
        "#β ερώτημα\n",
        "from apyori import apriori\n",
        "rule = apriori(transactions = itemsData, min_support = 0.001, min_confidence = 0.001)# min_lift = 3, min_length = 2, max_length = 2)\n",
        "#list(rule)\n",
        "results = list(rule)\n",
        "out=orderInspect(results,'Confidence')\n",
        "out"
      ],
      "metadata": {
        "id": "-klm015Der-J"
      },
      "execution_count": null,
      "outputs": []
    },
    {
      "cell_type": "code",
      "source": [
        "#εκτός απο τα items data πλεον χρειάζομαι και το basket value για το γ ερώτημα\n",
        "data2=[]\n",
        "lineData=[]\n",
        "for i in range(0, 7536):\n",
        "  lineData.append(transacts[i][1])##+basketvalue\n",
        "  for j in range(0, len(itemsData[i])):\n",
        "      lineData.append(itemsData[i][j])\n",
        "  data2.append(lineData)\n",
        "  lineData=[]\n",
        "for i in range(0, 7536):\n",
        "  print(data2[i])"
      ],
      "metadata": {
        "id": "J6TMKePhfz3R"
      },
      "execution_count": null,
      "outputs": []
    },
    {
      "cell_type": "code",
      "source": [
        "rule = apriori(transactions = data2, min_support = 0.001, min_confidence = 0.001)# min_lift = 3, min_length = 2, max_length = 2)\n",
        "#list(rule)\n",
        "results = list(rule)\n",
        "out=orderInspect(results,'Confidence')\n",
        "out"
      ],
      "metadata": {
        "id": "ZkX7enbPjH-x"
      },
      "execution_count": null,
      "outputs": []
    },
    {
      "cell_type": "markdown",
      "source": [
        "**3η Άσκηση**"
      ],
      "metadata": {
        "id": "qbV7ImvDgFmZ"
      }
    },
    {
      "cell_type": "code",
      "source": [
        "list3=[]#η λιστα η οποία θα περιέχει τα basketvalue,recencydays\n",
        "lineData=[]\n",
        "recd=[]#recencydays\n",
        "baskv=[]#basketvalue\n",
        "for i in range(0, 7536):\n",
        "  lineData.append(float(data.values[i+1,1]))\n",
        "  lineData.append(float(data.values[i+1,2]))\n",
        "  list3.append(lineData)\n",
        "  lineData=[]\n",
        "for i in range(0, 7536):\n",
        "  baskv.append(float(data.values[i+1,1]))\n",
        "  recd.append(float(data.values[i+1,2]))\n",
        "for i in range(0, 7536):\n",
        "  print(list3[i])\n"
      ],
      "metadata": {
        "id": "RbxryetqyTqB"
      },
      "execution_count": null,
      "outputs": []
    },
    {
      "cell_type": "markdown",
      "source": [
        "**Δημιουργία 5 ομάδων μέσω Kmeans**"
      ],
      "metadata": {
        "id": "BrrL6QbtlLLX"
      }
    },
    {
      "cell_type": "code",
      "source": [
        "from sklearn.cluster import KMeans\n",
        "#kmeans = KMeans(n_clusters=5)\n",
        "#kmeans.fit(list3)\n",
        "#y_kmeans = kmeans.predict(list3)\n",
        "#print(y_kmeans)\n",
        "kmeans = KMeans(n_clusters=5, random_state=0).fit(list3)\n",
        "y_kmeans = kmeans.predict(list3)\n",
        "kmeans.labels_\n"
      ],
      "metadata": {
        "id": "lQJXYkxajonA"
      },
      "execution_count": null,
      "outputs": []
    },
    {
      "cell_type": "code",
      "source": [
        "plt.scatter(baskv, recd, c=y_kmeans, s=50, cmap='viridis')\n",
        "\n",
        "centers = kmeans.cluster_centers_\n",
        "plt.scatter([centers[0][0],centers[1][0],centers[2][0],centers[3][0],centers[4][0]], [centers[0][1],centers[1][1],centers[2][1],centers[3][1],centers[4][1]], c='black', s=200, alpha=0.5);"
      ],
      "metadata": {
        "id": "Jy1RHo_gpO_G"
      },
      "execution_count": null,
      "outputs": []
    },
    {
      "cell_type": "markdown",
      "source": [
        "**Υπολογισμός μέσης τιμής και τυπικής απόκλισης**"
      ],
      "metadata": {
        "id": "WcgU74a7yUpS"
      }
    },
    {
      "cell_type": "code",
      "source": [
        "from numpy.ma.extras import average\n",
        "import statistics\n",
        "print(centers[0])#cluster0(mwv)\n",
        "print(centers[1])#cluster1(ble)\n",
        "print(centers[2])#cluster2(galazio)\n",
        "print(centers[3])#cluster3(prasino)\n",
        "print(centers[4])#cluster4(kitrino)\n",
        "x=average([centers[0][0],centers[1][0],centers[2][0],centers[3][0],centers[4][0]])\n",
        "y=average([centers[0][1],centers[1][1],centers[2][1],centers[3][1],centers[4][1]])\n",
        "print(\"Μέση τιμή κέντρων: \")\n",
        "print([x,y])\n",
        "x2=statistics.stdev([centers[0][0],centers[1][0],centers[2][0],centers[3][0],centers[4][0]])\n",
        "y2=statistics.stdev([centers[0][1],centers[1][1],centers[2][1],centers[3][1],centers[4][1]])\n",
        "print(\"Τυπική απόκλιση κέντρων: \")\n",
        "print([x2,y2])"
      ],
      "metadata": {
        "id": "6QFrqmflli-a"
      },
      "execution_count": null,
      "outputs": []
    },
    {
      "cell_type": "markdown",
      "source": [
        "**αριθμητικό προφίλ κάθε ομάδας**"
      ],
      "metadata": {
        "id": "0YLIebsvy0S0"
      }
    },
    {
      "cell_type": "code",
      "source": [
        "c0=0\n",
        "c1=0\n",
        "c2=0\n",
        "c3=0\n",
        "c4=0\n",
        "for i in kmeans.labels_:\n",
        "  if i==0:\n",
        "    c0=c0+1\n",
        "  elif i==1:\n",
        "    c1=c1+1\n",
        "  elif i==2:\n",
        "    c2=c2+1\n",
        "  elif i==3:\n",
        "    c3=c3+1\n",
        "  else:\n",
        "    c4=c4+1\n",
        "print(\"Cluster0 : Ομάδα πρόσφατων συναλλαγών κυρίως μεσαίας και μεγάλης αξίας (και ελαχίστων αρκετά μικρών) που αντιπροσωπεύει το \",(c0/7537)*100,\"% επι του συνόλου\")\n",
        "print(\"Cluster1 : Ομάδα παλαιών συναλλαγών(περίπου 2 μηνες) απο μικρής έως μεσαίας αξίας που αντιπροσωπεύει το \",(c1/7537)*100,\"% επι του συνόλου\")\n",
        "print(\"Cluster2 : Ομάδα  παλαιών συναλλαγών(περίπου 1 μήνα) απο μικρής έως μεσαίας αξίας που αντιπροσωπεύει το \",(c2/7537)*100,\"% επι του συνόλου\")\n",
        "print(\"Cluster3 : Ομάδα παλαιότερων συναλλαγών(2+ μήνες) όλων των αξιών που αντιπροσωπεύει το \",(c3/7537)*100,\"% επι του συνόλου\")\n",
        "print(\"Cluster4 : Ομάδα σχετικά πρόσφατων συναλλαγών(2-3 εβδομάδων) αποκλειστηκά μεσαίας και μεγάλης αξίας που αντιπροσωπεύει το \",(c4/7537)*100,\"% επι του συνόλου\")\n"
      ],
      "metadata": {
        "id": "pSUAU5bFy_jL"
      },
      "execution_count": null,
      "outputs": []
    },
    {
      "cell_type": "markdown",
      "source": [
        "**ομάδα της κάθε μιας συναλλαγής σε μια νεα ποιοτική μεταβλητή (στήλη)**"
      ],
      "metadata": {
        "id": "Cl9BcgUoEW_k"
      }
    },
    {
      "cell_type": "code",
      "source": [
        "xData=xData+[\"clusters\"]\n",
        "newCol=[]\n",
        "for i in kmeans.labels_:\n",
        "  if i==0:\n",
        "    newCol.append(\"claster0\")\n",
        "  elif i==1:\n",
        "    newCol.append(\"claster1\")\n",
        "  elif i==2:\n",
        "    newCol.append(\"claster2\")\n",
        "  elif i==3:\n",
        "    newCol.append(\"claster3\")\n",
        "  else:\n",
        "    newCol.append(\"claster4\")\n",
        "for i in range(0,7536):\n",
        "  transacts[i].append(newCol[i]) ##provlima to prostheti 3 fores\n",
        "\n",
        "pd.DataFrame(transacts,columns=xData)\n"
      ],
      "metadata": {
        "id": "4cCmlP1vEVTT"
      },
      "execution_count": null,
      "outputs": []
    },
    {
      "cell_type": "markdown",
      "source": [
        "**4η Άσκηση**"
      ],
      "metadata": {
        "id": "wVrnO5_92-MJ"
      }
    },
    {
      "cell_type": "code",
      "source": [
        "data4=[] #φτιάχνω μια λίστα με τα στοιχεία που χρειάζομαι\n",
        "lineData=[]\n",
        "for i in range(0, 7536):\n",
        "  lineData.append(transacts[i][16])\n",
        "  for j in range(0, len(itemsData[i])):\n",
        "      lineData.append(itemsData[i][j])\n",
        "  data4.append(lineData)\n",
        "  lineData=[]\n",
        "for i in range(0, 7536):\n",
        "  print(data4[i])"
      ],
      "metadata": {
        "id": "XmywRSDe3D_K"
      },
      "execution_count": null,
      "outputs": []
    },
    {
      "cell_type": "markdown",
      "source": [
        "**Α ερώτημα**"
      ],
      "metadata": {
        "id": "fJbYTR0t7mnb"
      }
    },
    {
      "cell_type": "code",
      "source": [
        "rule = apriori(transactions = data4, min_support = 0.001, min_confidence = 0.001)# min_lift = 3, min_length = 2, max_length = 2)\n",
        "#list(rule)\n",
        "results = list(rule)\n",
        "out=orderInspect(results,'Confidence')\n",
        "out"
      ],
      "metadata": {
        "id": "ftP_sFr25zQJ"
      },
      "execution_count": null,
      "outputs": []
    },
    {
      "cell_type": "markdown",
      "source": [
        "**Β ερώτημα**"
      ],
      "metadata": {
        "id": "qaxG38t_7ejg"
      }
    },
    {
      "cell_type": "code",
      "source": [
        "data4b=[] #φτιάχνω μια λίστα με τα στοιχεία που χρειάζομαι\n",
        "lineData=[]\n",
        "for i in range(0, 7536):\n",
        "  lineData.append(transacts[i][1])##+basketvalue\n",
        "  for j in range(0, len(data4[i])):\n",
        "      lineData.append(data4[i][j])\n",
        "  data4b.append(lineData)\n",
        "  lineData=[]\n",
        "for i in range(0, 7536):\n",
        "  print(data4b[i])"
      ],
      "metadata": {
        "id": "MBanfDgN65b-"
      },
      "execution_count": null,
      "outputs": []
    },
    {
      "cell_type": "code",
      "source": [
        "rule = apriori(transactions = data4b, min_support = 0.001, min_confidence = 0.001)# min_lift = 3, min_length = 2, max_length = 2)\n",
        "#list(rule)\n",
        "results = list(rule)\n",
        "out=orderInspect(results,'Confidence')\n",
        "out"
      ],
      "metadata": {
        "id": "2c7jWC_g7QAe"
      },
      "execution_count": null,
      "outputs": []
    }
  ]
}